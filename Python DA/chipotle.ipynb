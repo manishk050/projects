{
 "cells": [
  {
   "cell_type": "code",
   "execution_count": 1,
   "id": "ad4c0f38",
   "metadata": {},
   "outputs": [],
   "source": [
    "import pandas as pd \n",
    "import numpy as np"
   ]
  },
  {
   "cell_type": "code",
   "execution_count": 2,
   "id": "82b49740",
   "metadata": {},
   "outputs": [
    {
     "data": {
      "text/html": [
       "<div>\n",
       "<style scoped>\n",
       "    .dataframe tbody tr th:only-of-type {\n",
       "        vertical-align: middle;\n",
       "    }\n",
       "\n",
       "    .dataframe tbody tr th {\n",
       "        vertical-align: top;\n",
       "    }\n",
       "\n",
       "    .dataframe thead th {\n",
       "        text-align: right;\n",
       "    }\n",
       "</style>\n",
       "<table border=\"1\" class=\"dataframe\">\n",
       "  <thead>\n",
       "    <tr style=\"text-align: right;\">\n",
       "      <th></th>\n",
       "      <th>order_id</th>\n",
       "      <th>quantity</th>\n",
       "      <th>item_name</th>\n",
       "      <th>choice_description</th>\n",
       "      <th>item_price</th>\n",
       "    </tr>\n",
       "  </thead>\n",
       "  <tbody>\n",
       "    <tr>\n",
       "      <th>0</th>\n",
       "      <td>1</td>\n",
       "      <td>1</td>\n",
       "      <td>Chips and Fresh Tomato Salsa</td>\n",
       "      <td>NaN</td>\n",
       "      <td>$2.39</td>\n",
       "    </tr>\n",
       "    <tr>\n",
       "      <th>1</th>\n",
       "      <td>1</td>\n",
       "      <td>1</td>\n",
       "      <td>Izze</td>\n",
       "      <td>[Clementine]</td>\n",
       "      <td>$3.39</td>\n",
       "    </tr>\n",
       "    <tr>\n",
       "      <th>2</th>\n",
       "      <td>1</td>\n",
       "      <td>1</td>\n",
       "      <td>Nantucket Nectar</td>\n",
       "      <td>[Apple]</td>\n",
       "      <td>$3.39</td>\n",
       "    </tr>\n",
       "    <tr>\n",
       "      <th>3</th>\n",
       "      <td>1</td>\n",
       "      <td>1</td>\n",
       "      <td>Chips and Tomatillo-Green Chili Salsa</td>\n",
       "      <td>NaN</td>\n",
       "      <td>$2.39</td>\n",
       "    </tr>\n",
       "    <tr>\n",
       "      <th>4</th>\n",
       "      <td>2</td>\n",
       "      <td>2</td>\n",
       "      <td>Chicken Bowl</td>\n",
       "      <td>[Tomatillo-Red Chili Salsa (Hot), [Black Beans...</td>\n",
       "      <td>$16.98</td>\n",
       "    </tr>\n",
       "    <tr>\n",
       "      <th>...</th>\n",
       "      <td>...</td>\n",
       "      <td>...</td>\n",
       "      <td>...</td>\n",
       "      <td>...</td>\n",
       "      <td>...</td>\n",
       "    </tr>\n",
       "    <tr>\n",
       "      <th>4617</th>\n",
       "      <td>1833</td>\n",
       "      <td>1</td>\n",
       "      <td>Steak Burrito</td>\n",
       "      <td>[Fresh Tomato Salsa, [Rice, Black Beans, Sour ...</td>\n",
       "      <td>$11.75</td>\n",
       "    </tr>\n",
       "    <tr>\n",
       "      <th>4618</th>\n",
       "      <td>1833</td>\n",
       "      <td>1</td>\n",
       "      <td>Steak Burrito</td>\n",
       "      <td>[Fresh Tomato Salsa, [Rice, Sour Cream, Cheese...</td>\n",
       "      <td>$11.75</td>\n",
       "    </tr>\n",
       "    <tr>\n",
       "      <th>4619</th>\n",
       "      <td>1834</td>\n",
       "      <td>1</td>\n",
       "      <td>Chicken Salad Bowl</td>\n",
       "      <td>[Fresh Tomato Salsa, [Fajita Vegetables, Pinto...</td>\n",
       "      <td>$11.25</td>\n",
       "    </tr>\n",
       "    <tr>\n",
       "      <th>4620</th>\n",
       "      <td>1834</td>\n",
       "      <td>1</td>\n",
       "      <td>Chicken Salad Bowl</td>\n",
       "      <td>[Fresh Tomato Salsa, [Fajita Vegetables, Lettu...</td>\n",
       "      <td>$8.75</td>\n",
       "    </tr>\n",
       "    <tr>\n",
       "      <th>4621</th>\n",
       "      <td>1834</td>\n",
       "      <td>1</td>\n",
       "      <td>Chicken Salad Bowl</td>\n",
       "      <td>[Fresh Tomato Salsa, [Fajita Vegetables, Pinto...</td>\n",
       "      <td>$8.75</td>\n",
       "    </tr>\n",
       "  </tbody>\n",
       "</table>\n",
       "<p>4622 rows × 5 columns</p>\n",
       "</div>"
      ],
      "text/plain": [
       "      order_id  quantity                              item_name  \\\n",
       "0            1         1           Chips and Fresh Tomato Salsa   \n",
       "1            1         1                                   Izze   \n",
       "2            1         1                       Nantucket Nectar   \n",
       "3            1         1  Chips and Tomatillo-Green Chili Salsa   \n",
       "4            2         2                           Chicken Bowl   \n",
       "...        ...       ...                                    ...   \n",
       "4617      1833         1                          Steak Burrito   \n",
       "4618      1833         1                          Steak Burrito   \n",
       "4619      1834         1                     Chicken Salad Bowl   \n",
       "4620      1834         1                     Chicken Salad Bowl   \n",
       "4621      1834         1                     Chicken Salad Bowl   \n",
       "\n",
       "                                     choice_description item_price  \n",
       "0                                                   NaN     $2.39   \n",
       "1                                          [Clementine]     $3.39   \n",
       "2                                               [Apple]     $3.39   \n",
       "3                                                   NaN     $2.39   \n",
       "4     [Tomatillo-Red Chili Salsa (Hot), [Black Beans...    $16.98   \n",
       "...                                                 ...        ...  \n",
       "4617  [Fresh Tomato Salsa, [Rice, Black Beans, Sour ...    $11.75   \n",
       "4618  [Fresh Tomato Salsa, [Rice, Sour Cream, Cheese...    $11.75   \n",
       "4619  [Fresh Tomato Salsa, [Fajita Vegetables, Pinto...    $11.25   \n",
       "4620  [Fresh Tomato Salsa, [Fajita Vegetables, Lettu...     $8.75   \n",
       "4621  [Fresh Tomato Salsa, [Fajita Vegetables, Pinto...     $8.75   \n",
       "\n",
       "[4622 rows x 5 columns]"
      ]
     },
     "execution_count": 2,
     "metadata": {},
     "output_type": "execute_result"
    }
   ],
   "source": [
    "df = pd.read_csv(\"chipotle.tsv\",sep='\\t')\n",
    "df"
   ]
  },
  {
   "cell_type": "code",
   "execution_count": 3,
   "id": "e7a277e7",
   "metadata": {},
   "outputs": [],
   "source": [
    "df.columns = df.columns.str.lower().str.replace(' ','_')"
   ]
  },
  {
   "cell_type": "code",
   "execution_count": 4,
   "id": "9e8579a4",
   "metadata": {},
   "outputs": [
    {
     "data": {
      "text/plain": [
       "(4622, 5)"
      ]
     },
     "execution_count": 4,
     "metadata": {},
     "output_type": "execute_result"
    }
   ],
   "source": [
    "df.shape"
   ]
  },
  {
   "cell_type": "code",
   "execution_count": 5,
   "id": "cf1f84fc",
   "metadata": {},
   "outputs": [
    {
     "data": {
      "text/plain": [
       "RangeIndex(start=0, stop=4622, step=1)"
      ]
     },
     "execution_count": 5,
     "metadata": {},
     "output_type": "execute_result"
    }
   ],
   "source": [
    "df.index"
   ]
  },
  {
   "cell_type": "code",
   "execution_count": 6,
   "id": "3242a9ed",
   "metadata": {},
   "outputs": [
    {
     "data": {
      "text/plain": [
       "Index(['order_id', 'quantity', 'item_name', 'choice_description',\n",
       "       'item_price'],\n",
       "      dtype='object')"
      ]
     },
     "execution_count": 6,
     "metadata": {},
     "output_type": "execute_result"
    }
   ],
   "source": [
    "df.columns"
   ]
  },
  {
   "cell_type": "code",
   "execution_count": 7,
   "id": "b9ad7c47",
   "metadata": {},
   "outputs": [
    {
     "data": {
      "text/plain": [
       "order_id               int64\n",
       "quantity               int64\n",
       "item_name             object\n",
       "choice_description    object\n",
       "item_price            object\n",
       "dtype: object"
      ]
     },
     "execution_count": 7,
     "metadata": {},
     "output_type": "execute_result"
    }
   ],
   "source": [
    "df.dtypes"
   ]
  },
  {
   "cell_type": "code",
   "execution_count": 8,
   "id": "c514b483",
   "metadata": {},
   "outputs": [
    {
     "data": {
      "text/plain": [
       "order_id              1834\n",
       "quantity                 9\n",
       "item_name               50\n",
       "choice_description    1043\n",
       "item_price              78\n",
       "dtype: int64"
      ]
     },
     "execution_count": 8,
     "metadata": {},
     "output_type": "execute_result"
    }
   ],
   "source": [
    "df.nunique()"
   ]
  },
  {
   "cell_type": "code",
   "execution_count": 9,
   "id": "17997751",
   "metadata": {},
   "outputs": [
    {
     "name": "stdout",
     "output_type": "stream",
     "text": [
      "<class 'pandas.core.frame.DataFrame'>\n",
      "RangeIndex: 4622 entries, 0 to 4621\n",
      "Data columns (total 5 columns):\n",
      " #   Column              Non-Null Count  Dtype \n",
      "---  ------              --------------  ----- \n",
      " 0   order_id            4622 non-null   int64 \n",
      " 1   quantity            4622 non-null   int64 \n",
      " 2   item_name           4622 non-null   object\n",
      " 3   choice_description  3376 non-null   object\n",
      " 4   item_price          4622 non-null   object\n",
      "dtypes: int64(2), object(3)\n",
      "memory usage: 180.7+ KB\n"
     ]
    }
   ],
   "source": [
    "df.info()"
   ]
  },
  {
   "cell_type": "code",
   "execution_count": 10,
   "id": "200ae70e",
   "metadata": {
    "scrolled": true
   },
   "outputs": [
    {
     "data": {
      "text/plain": [
       "order_id              4622\n",
       "quantity              4622\n",
       "item_name             4622\n",
       "choice_description    3376\n",
       "item_price            4622\n",
       "dtype: int64"
      ]
     },
     "execution_count": 10,
     "metadata": {},
     "output_type": "execute_result"
    }
   ],
   "source": [
    "df.count()"
   ]
  },
  {
   "cell_type": "code",
   "execution_count": 11,
   "id": "57e17788",
   "metadata": {},
   "outputs": [
    {
     "data": {
      "text/plain": [
       "1246"
      ]
     },
     "execution_count": 11,
     "metadata": {},
     "output_type": "execute_result"
    }
   ],
   "source": [
    "df['choice_description'].isnull().sum()"
   ]
  },
  {
   "cell_type": "markdown",
   "id": "40bdcb91",
   "metadata": {},
   "source": [
    "##### as there are too many missing values in the data, we cannot remove them so we are going to replace them as no choice"
   ]
  },
  {
   "cell_type": "code",
   "execution_count": 12,
   "id": "a6dea6f0",
   "metadata": {},
   "outputs": [],
   "source": [
    "df['choice_description'].fillna(value='no choice', inplace=True)"
   ]
  },
  {
   "cell_type": "code",
   "execution_count": 13,
   "id": "771ce68e",
   "metadata": {},
   "outputs": [
    {
     "data": {
      "text/plain": [
       "order_id               int64\n",
       "quantity               int64\n",
       "item_name             object\n",
       "choice_description    object\n",
       "item_price            object\n",
       "dtype: object"
      ]
     },
     "execution_count": 13,
     "metadata": {},
     "output_type": "execute_result"
    }
   ],
   "source": [
    "df.dtypes"
   ]
  },
  {
   "cell_type": "code",
   "execution_count": 14,
   "id": "737b5b2a",
   "metadata": {},
   "outputs": [
    {
     "name": "stderr",
     "output_type": "stream",
     "text": [
      "C:\\Users\\Mikey\\AppData\\Local\\Temp\\ipykernel_14120\\3859696610.py:1: FutureWarning: The default value of regex will change from True to False in a future version. In addition, single character regular expressions will *not* be treated as literal strings when regex=True.\n",
      "  df['item_price']=df['item_price'].str.replace('$',' ')\n"
     ]
    }
   ],
   "source": [
    "df['item_price']=df['item_price'].str.replace('$',' ')"
   ]
  },
  {
   "cell_type": "code",
   "execution_count": 15,
   "id": "85b26967",
   "metadata": {},
   "outputs": [],
   "source": [
    "df['item_price']=df['item_price'].astype(float)"
   ]
  },
  {
   "cell_type": "code",
   "execution_count": 16,
   "id": "27ea1b1e",
   "metadata": {},
   "outputs": [
    {
     "data": {
      "text/plain": [
       "order_id                int64\n",
       "quantity                int64\n",
       "item_name              object\n",
       "choice_description     object\n",
       "item_price            float64\n",
       "dtype: object"
      ]
     },
     "execution_count": 16,
     "metadata": {},
     "output_type": "execute_result"
    }
   ],
   "source": [
    "df.dtypes"
   ]
  },
  {
   "cell_type": "code",
   "execution_count": 17,
   "id": "c5996348",
   "metadata": {},
   "outputs": [
    {
     "name": "stdout",
     "output_type": "stream",
     "text": [
      "      order_id  quantity                              item_name  \\\n",
      "1            1         1                                   Izze   \n",
      "2            1         1                       Nantucket Nectar   \n",
      "3            1         1  Chips and Tomatillo-Green Chili Salsa   \n",
      "6            3         1                          Side of Chips   \n",
      "8            4         1                       Steak Soft Tacos   \n",
      "...        ...       ...                                    ...   \n",
      "4614      1831         1                          Bottled Water   \n",
      "4616      1832         1                    Chips and Guacamole   \n",
      "4618      1833         1                          Steak Burrito   \n",
      "4620      1834         1                     Chicken Salad Bowl   \n",
      "4621      1834         1                     Chicken Salad Bowl   \n",
      "\n",
      "                                     choice_description  item_price  \n",
      "1                                          [Clementine]        3.39  \n",
      "2                                               [Apple]        3.39  \n",
      "3                                             no choice        2.39  \n",
      "6                                             no choice        1.69  \n",
      "8     [Tomatillo Green Chili Salsa, [Pinto Beans, Ch...        9.25  \n",
      "...                                                 ...         ...  \n",
      "4614                                          no choice        1.50  \n",
      "4616                                          no choice        4.45  \n",
      "4618  [Fresh Tomato Salsa, [Rice, Sour Cream, Cheese...       11.75  \n",
      "4620  [Fresh Tomato Salsa, [Fajita Vegetables, Lettu...        8.75  \n",
      "4621  [Fresh Tomato Salsa, [Fajita Vegetables, Pinto...        8.75  \n",
      "\n",
      "[2788 rows x 5 columns]\n"
     ]
    }
   ],
   "source": [
    "duplicates = df[df.duplicated('order_id')]\n",
    "print(duplicates)"
   ]
  },
  {
   "cell_type": "markdown",
   "id": "80a4121a",
   "metadata": {},
   "source": [
    "##### there should not be any duplicates in order_id so we can drop the duplicate values"
   ]
  },
  {
   "cell_type": "code",
   "execution_count": 18,
   "id": "7a6e42af",
   "metadata": {},
   "outputs": [],
   "source": [
    "df = df.drop_duplicates(subset=['order_id'])"
   ]
  },
  {
   "cell_type": "code",
   "execution_count": 19,
   "id": "bdd9cc8a",
   "metadata": {},
   "outputs": [
    {
     "data": {
      "text/html": [
       "<div>\n",
       "<style scoped>\n",
       "    .dataframe tbody tr th:only-of-type {\n",
       "        vertical-align: middle;\n",
       "    }\n",
       "\n",
       "    .dataframe tbody tr th {\n",
       "        vertical-align: top;\n",
       "    }\n",
       "\n",
       "    .dataframe thead th {\n",
       "        text-align: right;\n",
       "    }\n",
       "</style>\n",
       "<table border=\"1\" class=\"dataframe\">\n",
       "  <thead>\n",
       "    <tr style=\"text-align: right;\">\n",
       "      <th></th>\n",
       "      <th>order_id</th>\n",
       "      <th>quantity</th>\n",
       "      <th>item_name</th>\n",
       "      <th>choice_description</th>\n",
       "      <th>item_price</th>\n",
       "    </tr>\n",
       "  </thead>\n",
       "  <tbody>\n",
       "    <tr>\n",
       "      <th>0</th>\n",
       "      <td>1</td>\n",
       "      <td>1</td>\n",
       "      <td>Chips and Fresh Tomato Salsa</td>\n",
       "      <td>no choice</td>\n",
       "      <td>2.39</td>\n",
       "    </tr>\n",
       "    <tr>\n",
       "      <th>4</th>\n",
       "      <td>2</td>\n",
       "      <td>2</td>\n",
       "      <td>Chicken Bowl</td>\n",
       "      <td>[Tomatillo-Red Chili Salsa (Hot), [Black Beans...</td>\n",
       "      <td>16.98</td>\n",
       "    </tr>\n",
       "    <tr>\n",
       "      <th>5</th>\n",
       "      <td>3</td>\n",
       "      <td>1</td>\n",
       "      <td>Chicken Bowl</td>\n",
       "      <td>[Fresh Tomato Salsa (Mild), [Rice, Cheese, Sou...</td>\n",
       "      <td>10.98</td>\n",
       "    </tr>\n",
       "    <tr>\n",
       "      <th>7</th>\n",
       "      <td>4</td>\n",
       "      <td>1</td>\n",
       "      <td>Steak Burrito</td>\n",
       "      <td>[Tomatillo Red Chili Salsa, [Fajita Vegetables...</td>\n",
       "      <td>11.75</td>\n",
       "    </tr>\n",
       "    <tr>\n",
       "      <th>9</th>\n",
       "      <td>5</td>\n",
       "      <td>1</td>\n",
       "      <td>Steak Burrito</td>\n",
       "      <td>[Fresh Tomato Salsa, [Rice, Black Beans, Pinto...</td>\n",
       "      <td>9.25</td>\n",
       "    </tr>\n",
       "    <tr>\n",
       "      <th>...</th>\n",
       "      <td>...</td>\n",
       "      <td>...</td>\n",
       "      <td>...</td>\n",
       "      <td>...</td>\n",
       "      <td>...</td>\n",
       "    </tr>\n",
       "    <tr>\n",
       "      <th>4610</th>\n",
       "      <td>1830</td>\n",
       "      <td>1</td>\n",
       "      <td>Steak Burrito</td>\n",
       "      <td>[Fresh Tomato Salsa, [Rice, Sour Cream, Cheese...</td>\n",
       "      <td>11.75</td>\n",
       "    </tr>\n",
       "    <tr>\n",
       "      <th>4612</th>\n",
       "      <td>1831</td>\n",
       "      <td>1</td>\n",
       "      <td>Carnitas Bowl</td>\n",
       "      <td>[Fresh Tomato Salsa, [Fajita Vegetables, Rice,...</td>\n",
       "      <td>9.25</td>\n",
       "    </tr>\n",
       "    <tr>\n",
       "      <th>4615</th>\n",
       "      <td>1832</td>\n",
       "      <td>1</td>\n",
       "      <td>Chicken Soft Tacos</td>\n",
       "      <td>[Fresh Tomato Salsa, [Rice, Cheese, Sour Cream]]</td>\n",
       "      <td>8.75</td>\n",
       "    </tr>\n",
       "    <tr>\n",
       "      <th>4617</th>\n",
       "      <td>1833</td>\n",
       "      <td>1</td>\n",
       "      <td>Steak Burrito</td>\n",
       "      <td>[Fresh Tomato Salsa, [Rice, Black Beans, Sour ...</td>\n",
       "      <td>11.75</td>\n",
       "    </tr>\n",
       "    <tr>\n",
       "      <th>4619</th>\n",
       "      <td>1834</td>\n",
       "      <td>1</td>\n",
       "      <td>Chicken Salad Bowl</td>\n",
       "      <td>[Fresh Tomato Salsa, [Fajita Vegetables, Pinto...</td>\n",
       "      <td>11.25</td>\n",
       "    </tr>\n",
       "  </tbody>\n",
       "</table>\n",
       "<p>1834 rows × 5 columns</p>\n",
       "</div>"
      ],
      "text/plain": [
       "      order_id  quantity                     item_name  \\\n",
       "0            1         1  Chips and Fresh Tomato Salsa   \n",
       "4            2         2                  Chicken Bowl   \n",
       "5            3         1                  Chicken Bowl   \n",
       "7            4         1                 Steak Burrito   \n",
       "9            5         1                 Steak Burrito   \n",
       "...        ...       ...                           ...   \n",
       "4610      1830         1                 Steak Burrito   \n",
       "4612      1831         1                 Carnitas Bowl   \n",
       "4615      1832         1            Chicken Soft Tacos   \n",
       "4617      1833         1                 Steak Burrito   \n",
       "4619      1834         1            Chicken Salad Bowl   \n",
       "\n",
       "                                     choice_description  item_price  \n",
       "0                                             no choice        2.39  \n",
       "4     [Tomatillo-Red Chili Salsa (Hot), [Black Beans...       16.98  \n",
       "5     [Fresh Tomato Salsa (Mild), [Rice, Cheese, Sou...       10.98  \n",
       "7     [Tomatillo Red Chili Salsa, [Fajita Vegetables...       11.75  \n",
       "9     [Fresh Tomato Salsa, [Rice, Black Beans, Pinto...        9.25  \n",
       "...                                                 ...         ...  \n",
       "4610  [Fresh Tomato Salsa, [Rice, Sour Cream, Cheese...       11.75  \n",
       "4612  [Fresh Tomato Salsa, [Fajita Vegetables, Rice,...        9.25  \n",
       "4615   [Fresh Tomato Salsa, [Rice, Cheese, Sour Cream]]        8.75  \n",
       "4617  [Fresh Tomato Salsa, [Rice, Black Beans, Sour ...       11.75  \n",
       "4619  [Fresh Tomato Salsa, [Fajita Vegetables, Pinto...       11.25  \n",
       "\n",
       "[1834 rows x 5 columns]"
      ]
     },
     "execution_count": 19,
     "metadata": {},
     "output_type": "execute_result"
    }
   ],
   "source": [
    "df"
   ]
  },
  {
   "cell_type": "code",
   "execution_count": 20,
   "id": "f5defc73",
   "metadata": {
    "scrolled": true
   },
   "outputs": [
    {
     "name": "stderr",
     "output_type": "stream",
     "text": [
      "C:\\Users\\Mikey\\AppData\\Local\\Temp\\ipykernel_14120\\902573940.py:1: FutureWarning: The default value of regex will change from True to False in a future version. In addition, single character regular expressions will *not* be treated as literal strings when regex=True.\n",
      "  df['choice_description'] = df['choice_description'].str.replace(\"[\", \"\")\n",
      "C:\\Users\\Mikey\\AppData\\Local\\Temp\\ipykernel_14120\\902573940.py:1: SettingWithCopyWarning: \n",
      "A value is trying to be set on a copy of a slice from a DataFrame.\n",
      "Try using .loc[row_indexer,col_indexer] = value instead\n",
      "\n",
      "See the caveats in the documentation: https://pandas.pydata.org/pandas-docs/stable/user_guide/indexing.html#returning-a-view-versus-a-copy\n",
      "  df['choice_description'] = df['choice_description'].str.replace(\"[\", \"\")\n",
      "C:\\Users\\Mikey\\AppData\\Local\\Temp\\ipykernel_14120\\902573940.py:2: FutureWarning: The default value of regex will change from True to False in a future version. In addition, single character regular expressions will *not* be treated as literal strings when regex=True.\n",
      "  df['choice_description'] = df['choice_description'].str.replace(\"]\", \"\")\n",
      "C:\\Users\\Mikey\\AppData\\Local\\Temp\\ipykernel_14120\\902573940.py:2: SettingWithCopyWarning: \n",
      "A value is trying to be set on a copy of a slice from a DataFrame.\n",
      "Try using .loc[row_indexer,col_indexer] = value instead\n",
      "\n",
      "See the caveats in the documentation: https://pandas.pydata.org/pandas-docs/stable/user_guide/indexing.html#returning-a-view-versus-a-copy\n",
      "  df['choice_description'] = df['choice_description'].str.replace(\"]\", \"\")\n"
     ]
    }
   ],
   "source": [
    "df['choice_description'] = df['choice_description'].str.replace(\"[\", \"\")\n",
    "df['choice_description'] = df['choice_description'].str.replace(\"]\", \"\")\n"
   ]
  },
  {
   "cell_type": "code",
   "execution_count": 21,
   "id": "bcf3dab1",
   "metadata": {},
   "outputs": [
    {
     "data": {
      "text/html": [
       "<div>\n",
       "<style scoped>\n",
       "    .dataframe tbody tr th:only-of-type {\n",
       "        vertical-align: middle;\n",
       "    }\n",
       "\n",
       "    .dataframe tbody tr th {\n",
       "        vertical-align: top;\n",
       "    }\n",
       "\n",
       "    .dataframe thead th {\n",
       "        text-align: right;\n",
       "    }\n",
       "</style>\n",
       "<table border=\"1\" class=\"dataframe\">\n",
       "  <thead>\n",
       "    <tr style=\"text-align: right;\">\n",
       "      <th></th>\n",
       "      <th>order_id</th>\n",
       "      <th>quantity</th>\n",
       "      <th>item_name</th>\n",
       "      <th>choice_description</th>\n",
       "      <th>item_price</th>\n",
       "    </tr>\n",
       "  </thead>\n",
       "  <tbody>\n",
       "    <tr>\n",
       "      <th>0</th>\n",
       "      <td>1</td>\n",
       "      <td>1</td>\n",
       "      <td>Chips and Fresh Tomato Salsa</td>\n",
       "      <td>no choice</td>\n",
       "      <td>2.39</td>\n",
       "    </tr>\n",
       "    <tr>\n",
       "      <th>4</th>\n",
       "      <td>2</td>\n",
       "      <td>2</td>\n",
       "      <td>Chicken Bowl</td>\n",
       "      <td>Tomatillo-Red Chili Salsa (Hot), Black Beans, ...</td>\n",
       "      <td>16.98</td>\n",
       "    </tr>\n",
       "    <tr>\n",
       "      <th>5</th>\n",
       "      <td>3</td>\n",
       "      <td>1</td>\n",
       "      <td>Chicken Bowl</td>\n",
       "      <td>Fresh Tomato Salsa (Mild), Rice, Cheese, Sour ...</td>\n",
       "      <td>10.98</td>\n",
       "    </tr>\n",
       "    <tr>\n",
       "      <th>7</th>\n",
       "      <td>4</td>\n",
       "      <td>1</td>\n",
       "      <td>Steak Burrito</td>\n",
       "      <td>Tomatillo Red Chili Salsa, Fajita Vegetables, ...</td>\n",
       "      <td>11.75</td>\n",
       "    </tr>\n",
       "    <tr>\n",
       "      <th>9</th>\n",
       "      <td>5</td>\n",
       "      <td>1</td>\n",
       "      <td>Steak Burrito</td>\n",
       "      <td>Fresh Tomato Salsa, Rice, Black Beans, Pinto B...</td>\n",
       "      <td>9.25</td>\n",
       "    </tr>\n",
       "    <tr>\n",
       "      <th>...</th>\n",
       "      <td>...</td>\n",
       "      <td>...</td>\n",
       "      <td>...</td>\n",
       "      <td>...</td>\n",
       "      <td>...</td>\n",
       "    </tr>\n",
       "    <tr>\n",
       "      <th>4610</th>\n",
       "      <td>1830</td>\n",
       "      <td>1</td>\n",
       "      <td>Steak Burrito</td>\n",
       "      <td>Fresh Tomato Salsa, Rice, Sour Cream, Cheese, ...</td>\n",
       "      <td>11.75</td>\n",
       "    </tr>\n",
       "    <tr>\n",
       "      <th>4612</th>\n",
       "      <td>1831</td>\n",
       "      <td>1</td>\n",
       "      <td>Carnitas Bowl</td>\n",
       "      <td>Fresh Tomato Salsa, Fajita Vegetables, Rice, B...</td>\n",
       "      <td>9.25</td>\n",
       "    </tr>\n",
       "    <tr>\n",
       "      <th>4615</th>\n",
       "      <td>1832</td>\n",
       "      <td>1</td>\n",
       "      <td>Chicken Soft Tacos</td>\n",
       "      <td>Fresh Tomato Salsa, Rice, Cheese, Sour Cream</td>\n",
       "      <td>8.75</td>\n",
       "    </tr>\n",
       "    <tr>\n",
       "      <th>4617</th>\n",
       "      <td>1833</td>\n",
       "      <td>1</td>\n",
       "      <td>Steak Burrito</td>\n",
       "      <td>Fresh Tomato Salsa, Rice, Black Beans, Sour Cr...</td>\n",
       "      <td>11.75</td>\n",
       "    </tr>\n",
       "    <tr>\n",
       "      <th>4619</th>\n",
       "      <td>1834</td>\n",
       "      <td>1</td>\n",
       "      <td>Chicken Salad Bowl</td>\n",
       "      <td>Fresh Tomato Salsa, Fajita Vegetables, Pinto B...</td>\n",
       "      <td>11.25</td>\n",
       "    </tr>\n",
       "  </tbody>\n",
       "</table>\n",
       "<p>1834 rows × 5 columns</p>\n",
       "</div>"
      ],
      "text/plain": [
       "      order_id  quantity                     item_name  \\\n",
       "0            1         1  Chips and Fresh Tomato Salsa   \n",
       "4            2         2                  Chicken Bowl   \n",
       "5            3         1                  Chicken Bowl   \n",
       "7            4         1                 Steak Burrito   \n",
       "9            5         1                 Steak Burrito   \n",
       "...        ...       ...                           ...   \n",
       "4610      1830         1                 Steak Burrito   \n",
       "4612      1831         1                 Carnitas Bowl   \n",
       "4615      1832         1            Chicken Soft Tacos   \n",
       "4617      1833         1                 Steak Burrito   \n",
       "4619      1834         1            Chicken Salad Bowl   \n",
       "\n",
       "                                     choice_description  item_price  \n",
       "0                                             no choice        2.39  \n",
       "4     Tomatillo-Red Chili Salsa (Hot), Black Beans, ...       16.98  \n",
       "5     Fresh Tomato Salsa (Mild), Rice, Cheese, Sour ...       10.98  \n",
       "7     Tomatillo Red Chili Salsa, Fajita Vegetables, ...       11.75  \n",
       "9     Fresh Tomato Salsa, Rice, Black Beans, Pinto B...        9.25  \n",
       "...                                                 ...         ...  \n",
       "4610  Fresh Tomato Salsa, Rice, Sour Cream, Cheese, ...       11.75  \n",
       "4612  Fresh Tomato Salsa, Fajita Vegetables, Rice, B...        9.25  \n",
       "4615       Fresh Tomato Salsa, Rice, Cheese, Sour Cream        8.75  \n",
       "4617  Fresh Tomato Salsa, Rice, Black Beans, Sour Cr...       11.75  \n",
       "4619  Fresh Tomato Salsa, Fajita Vegetables, Pinto B...       11.25  \n",
       "\n",
       "[1834 rows x 5 columns]"
      ]
     },
     "execution_count": 21,
     "metadata": {},
     "output_type": "execute_result"
    }
   ],
   "source": [
    "df"
   ]
  },
  {
   "cell_type": "code",
   "execution_count": 22,
   "id": "ddcac829",
   "metadata": {
    "scrolled": false
   },
   "outputs": [
    {
     "name": "stderr",
     "output_type": "stream",
     "text": [
      "C:\\Users\\Mikey\\AppData\\Local\\Temp\\ipykernel_14120\\3953086783.py:1: SettingWithCopyWarning: \n",
      "A value is trying to be set on a copy of a slice from a DataFrame.\n",
      "Try using .loc[row_indexer,col_indexer] = value instead\n",
      "\n",
      "See the caveats in the documentation: https://pandas.pydata.org/pandas-docs/stable/user_guide/indexing.html#returning-a-view-versus-a-copy\n",
      "  df['choice_description'] = df['choice_description'].str.replace(\"Tomatillo Red Chili Salsa\", \"Tomatillo-Red Chili Salsa (Hot)\")\n",
      "C:\\Users\\Mikey\\AppData\\Local\\Temp\\ipykernel_14120\\3953086783.py:2: SettingWithCopyWarning: \n",
      "A value is trying to be set on a copy of a slice from a DataFrame.\n",
      "Try using .loc[row_indexer,col_indexer] = value instead\n",
      "\n",
      "See the caveats in the documentation: https://pandas.pydata.org/pandas-docs/stable/user_guide/indexing.html#returning-a-view-versus-a-copy\n",
      "  df['choice_description'] = df['choice_description'].str.replace(\"Fresh Tomato Salsa\", \"Fresh Tomato Salsa (Mild)\")\n"
     ]
    }
   ],
   "source": [
    "df['choice_description'] = df['choice_description'].str.replace(\"Tomatillo Red Chili Salsa\", \"Tomatillo-Red Chili Salsa (Hot)\")\n",
    "df['choice_description'] = df['choice_description'].str.replace(\"Fresh Tomato Salsa\", \"Fresh Tomato Salsa (Mild)\")"
   ]
  },
  {
   "cell_type": "markdown",
   "id": "d47257aa",
   "metadata": {},
   "source": [
    "### 1) quantity of each item?"
   ]
  },
  {
   "cell_type": "code",
   "execution_count": 23,
   "id": "32ca2fce",
   "metadata": {
    "scrolled": true
   },
   "outputs": [
    {
     "data": {
      "text/plain": [
       "Chicken Bowl                             468\n",
       "Chicken Burrito                          341\n",
       "Steak Burrito                            235\n",
       "Steak Bowl                               109\n",
       "Chips and Guacamole                       82\n",
       "Chicken Salad Bowl                        59\n",
       "Veggie Burrito                            54\n",
       "Barbacoa Burrito                          51\n",
       "Barbacoa Bowl                             41\n",
       "Canned Soft Drink                         40\n",
       "Veggie Bowl                               39\n",
       "Chicken Soft Tacos                        39\n",
       "Carnitas Bowl                             36\n",
       "Carnitas Burrito                          35\n",
       "Bottled Water                             26\n",
       "Steak Soft Tacos                          25\n",
       "Steak Salad Bowl                          14\n",
       "Steak Crispy Tacos                        14\n",
       "Carnitas Soft Tacos                       13\n",
       "6 Pack Soft Drink                         11\n",
       "Barbacoa Soft Tacos                       11\n",
       "Chicken Crispy Tacos                      11\n",
       "Canned Soda                                9\n",
       "Veggie Salad Bowl                          9\n",
       "Side of Chips                              7\n",
       "Chips and Tomatillo-Green Chili Salsa      6\n",
       "Chicken Salad                              6\n",
       "Chips                                      6\n",
       "Nantucket Nectar                           5\n",
       "Chips and Fresh Tomato Salsa               5\n",
       "Barbacoa Salad Bowl                        3\n",
       "Burrito                                    3\n",
       "Barbacoa Crispy Tacos                      2\n",
       "Steak Salad                                2\n",
       "Chips and Tomatillo Green Chili Salsa      2\n",
       "Chips and Roasted Chili Corn Salsa         2\n",
       "Carnitas Crispy Tacos                      2\n",
       "Bowl                                       2\n",
       "Chips and Tomatillo Red Chili Salsa        2\n",
       "Veggie Salad                               2\n",
       "Veggie Soft Tacos                          1\n",
       "Salad                                      1\n",
       "Izze                                       1\n",
       "Carnitas Salad Bowl                        1\n",
       "Carnitas Salad                             1\n",
       "Name: item_name, dtype: int64"
      ]
     },
     "execution_count": 23,
     "metadata": {},
     "output_type": "execute_result"
    }
   ],
   "source": [
    "counts = df['item_name'].value_counts()\n",
    "counts"
   ]
  },
  {
   "cell_type": "markdown",
   "id": "1b750ab0",
   "metadata": {},
   "source": [
    "### 2) what was the most ordered item in the column \"choice_description\" ?"
   ]
  },
  {
   "cell_type": "code",
   "execution_count": 24,
   "id": "6f0e0e1c",
   "metadata": {
    "scrolled": true
   },
   "outputs": [
    {
     "data": {
      "text/plain": [
       "no choice                                                                                                 138\n",
       "Fresh Tomato Salsa (Mild) (Mild), Pinto Beans, Rice, Cheese, Sour Cream                                    25\n",
       "Fresh Tomato Salsa (Mild), Rice, Black Beans, Cheese, Sour Cream, Lettuce                                  25\n",
       "Fresh Tomato Salsa (Mild), Rice, Black Beans, Cheese, Sour Cream                                           21\n",
       "Fresh Tomato Salsa (Mild), Rice, Black Beans, Cheese, Sour Cream, Guacamole, Lettuce                       20\n",
       "                                                                                                         ... \n",
       "Roasted Chili Corn Salsa, Rice, Fajita Vegetables, Black Beans, Sour Cream, Cheese, Lettuce                 1\n",
       "Roasted Chili Corn Salsa (Medium), Tomatillo-Green Chili Salsa (Medium), Rice, Black Beans, Sour Cream      1\n",
       "Roasted Chili Corn Salsa (Medium), Cheese                                                                   1\n",
       "Tomatillo-Red Chili Salsa (Hot), Fajita Veggies, Cheese, Sour Cream, Guacamole                              1\n",
       "Tomatillo Green Chili Salsa, Rice, Black Beans                                                              1\n",
       "Name: choice_description, Length: 737, dtype: int64"
      ]
     },
     "execution_count": 24,
     "metadata": {},
     "output_type": "execute_result"
    }
   ],
   "source": [
    "most_ordered = df['choice_description'].value_counts()\n",
    "most_ordered"
   ]
  },
  {
   "cell_type": "markdown",
   "id": "f138c7ac",
   "metadata": {},
   "source": [
    "#### mostly people did not choose anything but diet coke was the most ordered \"choice_description\""
   ]
  },
  {
   "cell_type": "markdown",
   "id": "f29fd63b",
   "metadata": {},
   "source": [
    "### 3) How many items were ordered in total"
   ]
  },
  {
   "cell_type": "code",
   "execution_count": 25,
   "id": "6f03803a",
   "metadata": {},
   "outputs": [
    {
     "data": {
      "text/plain": [
       "1834"
      ]
     },
     "execution_count": 25,
     "metadata": {},
     "output_type": "execute_result"
    }
   ],
   "source": [
    "total_items = df[\"item_name\"].count()\n",
    "total_items"
   ]
  },
  {
   "cell_type": "markdown",
   "id": "e0466f72",
   "metadata": {},
   "source": [
    "### 4)How much was the revenue of the period in the dataset?"
   ]
  },
  {
   "cell_type": "code",
   "execution_count": 26,
   "id": "cfd9e3e2",
   "metadata": {},
   "outputs": [
    {
     "data": {
      "text/plain": [
       "17678.050000000003"
      ]
     },
     "execution_count": 26,
     "metadata": {},
     "output_type": "execute_result"
    }
   ],
   "source": [
    "total_revenue = df['item_price'].sum()\n",
    "total_revenue"
   ]
  },
  {
   "cell_type": "markdown",
   "id": "f8ec6770",
   "metadata": {},
   "source": [
    "### 5)How many orders were made in the period?"
   ]
  },
  {
   "cell_type": "code",
   "execution_count": 29,
   "id": "e7886129",
   "metadata": {},
   "outputs": [
    {
     "data": {
      "text/plain": [
       "1834"
      ]
     },
     "execution_count": 29,
     "metadata": {},
     "output_type": "execute_result"
    }
   ],
   "source": [
    "total_orders = df['order_id'].count()\n",
    "total_orders"
   ]
  },
  {
   "cell_type": "markdown",
   "id": "dda9ad0e",
   "metadata": {},
   "source": [
    "### 6) What is the avg revenue amount in the period?"
   ]
  },
  {
   "cell_type": "code",
   "execution_count": 35,
   "id": "ce2dfb59",
   "metadata": {},
   "outputs": [
    {
     "data": {
      "text/plain": [
       "9.639067611777538"
      ]
     },
     "execution_count": 35,
     "metadata": {},
     "output_type": "execute_result"
    }
   ],
   "source": [
    "avg_rev = df['item_price'].mean()\n",
    "avg_rev"
   ]
  },
  {
   "cell_type": "markdown",
   "id": "a3341046",
   "metadata": {},
   "source": [
    "### 7) how many different items are sold?"
   ]
  },
  {
   "cell_type": "code",
   "execution_count": 37,
   "id": "4d5d5c75",
   "metadata": {},
   "outputs": [
    {
     "data": {
      "text/plain": [
       "45"
      ]
     },
     "execution_count": 37,
     "metadata": {},
     "output_type": "execute_result"
    }
   ],
   "source": [
    "diff_items = df['item_name'].nunique()\n",
    "diff_items"
   ]
  },
  {
   "cell_type": "code",
   "execution_count": 38,
   "id": "68651976",
   "metadata": {},
   "outputs": [],
   "source": [
    "from IPython.display import FileLink"
   ]
  },
  {
   "cell_type": "code",
   "execution_count": 47,
   "id": "69534ccc",
   "metadata": {},
   "outputs": [
    {
     "data": {
      "text/html": [
       "<a href='chipotle.csv' target='_blank'>chipotle.csv</a><br>"
      ],
      "text/plain": [
       "C:\\Users\\Mikey\\chipotle.csv"
      ]
     },
     "execution_count": 47,
     "metadata": {},
     "output_type": "execute_result"
    }
   ],
   "source": [
    "# Write the DataFrame to a CSV file\n",
    "df.to_csv(\"chipotle.tsv\", index=False)\n",
    "\n",
    "# Download the CSV file\n",
    "FileLink(\"chipotle.csv\")\n"
   ]
  },
  {
   "cell_type": "code",
   "execution_count": null,
   "id": "386ede40",
   "metadata": {},
   "outputs": [],
   "source": []
  },
  {
   "cell_type": "code",
   "execution_count": null,
   "id": "84556953",
   "metadata": {},
   "outputs": [],
   "source": [
    "def processing(df,*col)\n",
    "     df.columns = df.columns.str.lower().str.replace(' ','_')\n",
    "     df.drop([col],axis = 1, inplace = True)\n",
    "    df.dropna(axis = 0,inplace = True)\n",
    "    return df"
   ]
  }
 ],
 "metadata": {
  "kernelspec": {
   "display_name": "Python 3 (ipykernel)",
   "language": "python",
   "name": "python3"
  },
  "language_info": {
   "codemirror_mode": {
    "name": "ipython",
    "version": 3
   },
   "file_extension": ".py",
   "mimetype": "text/x-python",
   "name": "python",
   "nbconvert_exporter": "python",
   "pygments_lexer": "ipython3",
   "version": "3.11.5"
  }
 },
 "nbformat": 4,
 "nbformat_minor": 5
}
