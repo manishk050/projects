{
 "cells": [
  {
   "cell_type": "markdown",
   "id": "4eae65cf",
   "metadata": {},
   "source": [
    "# SQL CITY Murder Mystery And WEB SCRAPING"
   ]
  },
  {
   "cell_type": "markdown",
   "id": "cfd0e705",
   "metadata": {},
   "source": [
    "In this note book we are going to find the killer using our skill in sql and scrape a book store website (it is at the bottom)"
   ]
  },
  {
   "cell_type": "markdown",
   "id": "9c16a8ca",
   "metadata": {},
   "source": [
    "## Setting Up the Connection:"
   ]
  },
  {
   "cell_type": "code",
   "execution_count": 1,
   "id": "0955ebe9",
   "metadata": {},
   "outputs": [],
   "source": [
    "import pandas as pd\n",
    "import sqlite3 as sql"
   ]
  },
  {
   "cell_type": "code",
   "execution_count": 2,
   "id": "332013ac",
   "metadata": {},
   "outputs": [],
   "source": [
    "conn = sql.connect(\"sql-murder-mystery.db\")"
   ]
  },
  {
   "cell_type": "code",
   "execution_count": 3,
   "id": "cf4e4e42",
   "metadata": {
    "scrolled": true
   },
   "outputs": [
    {
     "data": {
      "text/html": [
       "<div>\n",
       "<style scoped>\n",
       "    .dataframe tbody tr th:only-of-type {\n",
       "        vertical-align: middle;\n",
       "    }\n",
       "\n",
       "    .dataframe tbody tr th {\n",
       "        vertical-align: top;\n",
       "    }\n",
       "\n",
       "    .dataframe thead th {\n",
       "        text-align: right;\n",
       "    }\n",
       "</style>\n",
       "<table border=\"1\" class=\"dataframe\">\n",
       "  <thead>\n",
       "    <tr style=\"text-align: right;\">\n",
       "      <th></th>\n",
       "      <th>name</th>\n",
       "    </tr>\n",
       "  </thead>\n",
       "  <tbody>\n",
       "    <tr>\n",
       "      <th>0</th>\n",
       "      <td>crime_scene_report</td>\n",
       "    </tr>\n",
       "    <tr>\n",
       "      <th>1</th>\n",
       "      <td>drivers_license</td>\n",
       "    </tr>\n",
       "    <tr>\n",
       "      <th>2</th>\n",
       "      <td>person</td>\n",
       "    </tr>\n",
       "    <tr>\n",
       "      <th>3</th>\n",
       "      <td>facebook_event_checkin</td>\n",
       "    </tr>\n",
       "    <tr>\n",
       "      <th>4</th>\n",
       "      <td>interview</td>\n",
       "    </tr>\n",
       "    <tr>\n",
       "      <th>5</th>\n",
       "      <td>get_fit_now_member</td>\n",
       "    </tr>\n",
       "    <tr>\n",
       "      <th>6</th>\n",
       "      <td>get_fit_now_check_in</td>\n",
       "    </tr>\n",
       "    <tr>\n",
       "      <th>7</th>\n",
       "      <td>income</td>\n",
       "    </tr>\n",
       "    <tr>\n",
       "      <th>8</th>\n",
       "      <td>solution</td>\n",
       "    </tr>\n",
       "  </tbody>\n",
       "</table>\n",
       "</div>"
      ],
      "text/plain": [
       "                     name\n",
       "0      crime_scene_report\n",
       "1         drivers_license\n",
       "2                  person\n",
       "3  facebook_event_checkin\n",
       "4               interview\n",
       "5      get_fit_now_member\n",
       "6    get_fit_now_check_in\n",
       "7                  income\n",
       "8                solution"
      ]
     },
     "execution_count": 3,
     "metadata": {},
     "output_type": "execute_result"
    }
   ],
   "source": [
    "query = \"\"\"SELECT name FROM sqlite_master WHERE type='table';\"\"\"\n",
    "\n",
    "pd.set_option('display.max_colwidth',None)\n",
    "\n",
    "pd.read_sql_query(query,conn)"
   ]
  },
  {
   "cell_type": "markdown",
   "id": "fe38deb3",
   "metadata": {},
   "source": [
    "## 1. Retrieve Crime Scene Report"
   ]
  },
  {
   "cell_type": "code",
   "execution_count": 23,
   "id": "98f75acd",
   "metadata": {},
   "outputs": [
    {
     "data": {
      "text/html": [
       "<div>\n",
       "<style scoped>\n",
       "    .dataframe tbody tr th:only-of-type {\n",
       "        vertical-align: middle;\n",
       "    }\n",
       "\n",
       "    .dataframe tbody tr th {\n",
       "        vertical-align: top;\n",
       "    }\n",
       "\n",
       "    .dataframe thead th {\n",
       "        text-align: right;\n",
       "    }\n",
       "</style>\n",
       "<table border=\"1\" class=\"dataframe\">\n",
       "  <thead>\n",
       "    <tr style=\"text-align: right;\">\n",
       "      <th></th>\n",
       "      <th>date</th>\n",
       "      <th>type</th>\n",
       "      <th>description</th>\n",
       "      <th>city</th>\n",
       "    </tr>\n",
       "  </thead>\n",
       "  <tbody>\n",
       "    <tr>\n",
       "      <th>0</th>\n",
       "      <td>20180115</td>\n",
       "      <td>murder</td>\n",
       "      <td>Security footage shows that there were 2 witnesses. The first witness lives at the last house on \"Northwestern Dr\". The second witness, named Annabel, lives somewhere on \"Franklin Ave\".</td>\n",
       "      <td>SQL City</td>\n",
       "    </tr>\n",
       "  </tbody>\n",
       "</table>\n",
       "</div>"
      ],
      "text/plain": [
       "       date    type  \\\n",
       "0  20180115  murder   \n",
       "\n",
       "                                                                                                                                                                                 description  \\\n",
       "0  Security footage shows that there were 2 witnesses. The first witness lives at the last house on \"Northwestern Dr\". The second witness, named Annabel, lives somewhere on \"Franklin Ave\".   \n",
       "\n",
       "       city  \n",
       "0  SQL City  "
      ]
     },
     "execution_count": 23,
     "metadata": {},
     "output_type": "execute_result"
    }
   ],
   "source": [
    "query = \"\"\"\n",
    "SELECT *\n",
    "FROM crime_scene_report\n",
    "WHERE city = \"SQL City\" and date = 20180115 and type = 'murder'\n",
    "\"\"\"\n",
    "\n",
    "pd.set_option('display.max_colwidth',None)\n",
    "\n",
    "pd.read_sql_query(query,conn)"
   ]
  },
  {
   "cell_type": "markdown",
   "id": "5733d8ae",
   "metadata": {},
   "source": [
    "## 2. Witness Personal Details"
   ]
  },
  {
   "cell_type": "code",
   "execution_count": 24,
   "id": "51e4af33",
   "metadata": {},
   "outputs": [
    {
     "data": {
      "text/html": [
       "<div>\n",
       "<style scoped>\n",
       "    .dataframe tbody tr th:only-of-type {\n",
       "        vertical-align: middle;\n",
       "    }\n",
       "\n",
       "    .dataframe tbody tr th {\n",
       "        vertical-align: top;\n",
       "    }\n",
       "\n",
       "    .dataframe thead th {\n",
       "        text-align: right;\n",
       "    }\n",
       "</style>\n",
       "<table border=\"1\" class=\"dataframe\">\n",
       "  <thead>\n",
       "    <tr style=\"text-align: right;\">\n",
       "      <th></th>\n",
       "      <th>id</th>\n",
       "      <th>name</th>\n",
       "      <th>license_id</th>\n",
       "      <th>address_number</th>\n",
       "      <th>address_street_name</th>\n",
       "      <th>ssn</th>\n",
       "    </tr>\n",
       "  </thead>\n",
       "  <tbody>\n",
       "    <tr>\n",
       "      <th>0</th>\n",
       "      <td>14887</td>\n",
       "      <td>Morty Schapiro</td>\n",
       "      <td>118009</td>\n",
       "      <td>4919</td>\n",
       "      <td>Northwestern Dr</td>\n",
       "      <td>111564949</td>\n",
       "    </tr>\n",
       "  </tbody>\n",
       "</table>\n",
       "</div>"
      ],
      "text/plain": [
       "      id            name  license_id  address_number address_street_name  \\\n",
       "0  14887  Morty Schapiro      118009            4919     Northwestern Dr   \n",
       "\n",
       "         ssn  \n",
       "0  111564949  "
      ]
     },
     "execution_count": 24,
     "metadata": {},
     "output_type": "execute_result"
    }
   ],
   "source": [
    "query = \"\"\"\n",
    "SELECT *\n",
    "FROM person \n",
    "WHERE address_street_name = 'Northwestern Dr' \n",
    "ORDER BY address_number DESC \n",
    "LIMIT 1; \"\"\"\n",
    "\n",
    "pd.set_option('display.max_colwidth',None)\n",
    "\n",
    "pd.read_sql_query(query,conn)"
   ]
  },
  {
   "cell_type": "code",
   "execution_count": 25,
   "id": "278b13d2",
   "metadata": {},
   "outputs": [
    {
     "data": {
      "text/html": [
       "<div>\n",
       "<style scoped>\n",
       "    .dataframe tbody tr th:only-of-type {\n",
       "        vertical-align: middle;\n",
       "    }\n",
       "\n",
       "    .dataframe tbody tr th {\n",
       "        vertical-align: top;\n",
       "    }\n",
       "\n",
       "    .dataframe thead th {\n",
       "        text-align: right;\n",
       "    }\n",
       "</style>\n",
       "<table border=\"1\" class=\"dataframe\">\n",
       "  <thead>\n",
       "    <tr style=\"text-align: right;\">\n",
       "      <th></th>\n",
       "      <th>id</th>\n",
       "      <th>name</th>\n",
       "      <th>license_id</th>\n",
       "      <th>address_number</th>\n",
       "      <th>address_street_name</th>\n",
       "      <th>ssn</th>\n",
       "    </tr>\n",
       "  </thead>\n",
       "  <tbody>\n",
       "    <tr>\n",
       "      <th>0</th>\n",
       "      <td>16371</td>\n",
       "      <td>Annabel Miller</td>\n",
       "      <td>490173</td>\n",
       "      <td>103</td>\n",
       "      <td>Franklin Ave</td>\n",
       "      <td>318771143</td>\n",
       "    </tr>\n",
       "  </tbody>\n",
       "</table>\n",
       "</div>"
      ],
      "text/plain": [
       "      id            name  license_id  address_number address_street_name  \\\n",
       "0  16371  Annabel Miller      490173             103        Franklin Ave   \n",
       "\n",
       "         ssn  \n",
       "0  318771143  "
      ]
     },
     "execution_count": 25,
     "metadata": {},
     "output_type": "execute_result"
    }
   ],
   "source": [
    "query = \"\"\"\n",
    "SELECT *\n",
    "FROM person \n",
    "WHERE address_street_name = 'Franklin Ave' \n",
    "AND name LIKE 'Annabel%';\n",
    " \"\"\"\n",
    "\n",
    "pd.set_option('display.max_colwidth',None)\n",
    "\n",
    "pd.read_sql_query(query,conn)"
   ]
  },
  {
   "cell_type": "markdown",
   "id": "3e62a8f6",
   "metadata": {},
   "source": [
    "## 3. View Witness Interviews"
   ]
  },
  {
   "cell_type": "code",
   "execution_count": 26,
   "id": "7c10a95e",
   "metadata": {},
   "outputs": [
    {
     "data": {
      "text/html": [
       "<div>\n",
       "<style scoped>\n",
       "    .dataframe tbody tr th:only-of-type {\n",
       "        vertical-align: middle;\n",
       "    }\n",
       "\n",
       "    .dataframe tbody tr th {\n",
       "        vertical-align: top;\n",
       "    }\n",
       "\n",
       "    .dataframe thead th {\n",
       "        text-align: right;\n",
       "    }\n",
       "</style>\n",
       "<table border=\"1\" class=\"dataframe\">\n",
       "  <thead>\n",
       "    <tr style=\"text-align: right;\">\n",
       "      <th></th>\n",
       "      <th>person_id</th>\n",
       "      <th>transcript</th>\n",
       "    </tr>\n",
       "  </thead>\n",
       "  <tbody>\n",
       "    <tr>\n",
       "      <th>0</th>\n",
       "      <td>14887</td>\n",
       "      <td>I heard a gunshot and then saw a man run out. He had a \"Get Fit Now Gym\" bag. The membership number on the bag started with \"48Z\". Only gold members have those bags. The man got into a car with a plate that included \"H42W\".</td>\n",
       "    </tr>\n",
       "    <tr>\n",
       "      <th>1</th>\n",
       "      <td>16371</td>\n",
       "      <td>I saw the murder happen, and I recognized the killer from my gym when I was working out last week on January the 9th.</td>\n",
       "    </tr>\n",
       "  </tbody>\n",
       "</table>\n",
       "</div>"
      ],
      "text/plain": [
       "   person_id  \\\n",
       "0      14887   \n",
       "1      16371   \n",
       "\n",
       "                                                                                                                                                                                                                        transcript  \n",
       "0  I heard a gunshot and then saw a man run out. He had a \"Get Fit Now Gym\" bag. The membership number on the bag started with \"48Z\". Only gold members have those bags. The man got into a car with a plate that included \"H42W\".  \n",
       "1                                                                                                            I saw the murder happen, and I recognized the killer from my gym when I was working out last week on January the 9th.  "
      ]
     },
     "execution_count": 26,
     "metadata": {},
     "output_type": "execute_result"
    }
   ],
   "source": [
    "query = \"\"\"\n",
    "SELECT *\n",
    "FROM interview \n",
    "WHERE person_id IN (14887, 16371);\n",
    "\"\"\"\n",
    "\n",
    "pd.set_option('display.max_colwidth',None)\n",
    "\n",
    "pd.read_sql_query(query,conn)"
   ]
  },
  {
   "cell_type": "markdown",
   "id": "dc2a4eaa",
   "metadata": {},
   "source": [
    "## 4. Check Gym Database, Car Details, Personal Details and Membership Status "
   ]
  },
  {
   "cell_type": "code",
   "execution_count": 27,
   "id": "91176d57",
   "metadata": {},
   "outputs": [
    {
     "data": {
      "text/html": [
       "<div>\n",
       "<style scoped>\n",
       "    .dataframe tbody tr th:only-of-type {\n",
       "        vertical-align: middle;\n",
       "    }\n",
       "\n",
       "    .dataframe tbody tr th {\n",
       "        vertical-align: top;\n",
       "    }\n",
       "\n",
       "    .dataframe thead th {\n",
       "        text-align: right;\n",
       "    }\n",
       "</style>\n",
       "<table border=\"1\" class=\"dataframe\">\n",
       "  <thead>\n",
       "    <tr style=\"text-align: right;\">\n",
       "      <th></th>\n",
       "      <th>name</th>\n",
       "    </tr>\n",
       "  </thead>\n",
       "  <tbody>\n",
       "    <tr>\n",
       "      <th>0</th>\n",
       "      <td>Jeremy Bowers</td>\n",
       "    </tr>\n",
       "  </tbody>\n",
       "</table>\n",
       "</div>"
      ],
      "text/plain": [
       "            name\n",
       "0  Jeremy Bowers"
      ]
     },
     "execution_count": 27,
     "metadata": {},
     "output_type": "execute_result"
    }
   ],
   "source": [
    "query = \"\"\"\n",
    "SELECT person.name\n",
    "FROM get_fit_now_member \n",
    "JOIN person ON get_fit_now_member.person_id = person.id \n",
    "JOIN drivers_license ON person.license_id = drivers_license.id \n",
    "WHERE membership_status = 'gold' \n",
    "AND get_fit_now_member.id LIKE '48Z%' \n",
    "AND plate_number LIKE '%H42W%';\n",
    "\"\"\"\n",
    "\n",
    "pd.set_option('display.max_colwidth',None)\n",
    "\n",
    "pd.read_sql_query(query,conn)"
   ]
  },
  {
   "cell_type": "code",
   "execution_count": 28,
   "id": "5cd1f5d4",
   "metadata": {},
   "outputs": [
    {
     "data": {
      "text/html": [
       "<div>\n",
       "<style scoped>\n",
       "    .dataframe tbody tr th:only-of-type {\n",
       "        vertical-align: middle;\n",
       "    }\n",
       "\n",
       "    .dataframe tbody tr th {\n",
       "        vertical-align: top;\n",
       "    }\n",
       "\n",
       "    .dataframe thead th {\n",
       "        text-align: right;\n",
       "    }\n",
       "</style>\n",
       "<table border=\"1\" class=\"dataframe\">\n",
       "  <thead>\n",
       "    <tr style=\"text-align: right;\">\n",
       "      <th></th>\n",
       "      <th>transcript</th>\n",
       "    </tr>\n",
       "  </thead>\n",
       "  <tbody>\n",
       "    <tr>\n",
       "      <th>0</th>\n",
       "      <td>I was hired by a woman with a lot of money. I don't know her name but I know she's around 5'5\" (65\") or 5'7\" (67\"). She has red hair and she drives a Tesla Model S. I know that she attended the SQL Symphony Concert 3 times in December 2017.\\n</td>\n",
       "    </tr>\n",
       "  </tbody>\n",
       "</table>\n",
       "</div>"
      ],
      "text/plain": [
       "                                                                                                                                                                                                                                           transcript\n",
       "0  I was hired by a woman with a lot of money. I don't know her name but I know she's around 5'5\" (65\") or 5'7\" (67\"). She has red hair and she drives a Tesla Model S. I know that she attended the SQL Symphony Concert 3 times in December 2017.\\n"
      ]
     },
     "execution_count": 28,
     "metadata": {},
     "output_type": "execute_result"
    }
   ],
   "source": [
    "query = \"\"\"\n",
    "SELECT transcript\n",
    "FROM interview \n",
    "JOIN person ON person.id = interview.person_id \n",
    "WHERE name = 'Jeremy Bowers';\"\"\"\n",
    "\n",
    "pd.set_option('display.max_colwidth',None)\n",
    "\n",
    "pd.read_sql_query(query,conn)"
   ]
  },
  {
   "cell_type": "code",
   "execution_count": 29,
   "id": "1b6217a2",
   "metadata": {},
   "outputs": [
    {
     "data": {
      "text/html": [
       "<div>\n",
       "<style scoped>\n",
       "    .dataframe tbody tr th:only-of-type {\n",
       "        vertical-align: middle;\n",
       "    }\n",
       "\n",
       "    .dataframe tbody tr th {\n",
       "        vertical-align: top;\n",
       "    }\n",
       "\n",
       "    .dataframe thead th {\n",
       "        text-align: right;\n",
       "    }\n",
       "</style>\n",
       "<table border=\"1\" class=\"dataframe\">\n",
       "  <thead>\n",
       "    <tr style=\"text-align: right;\">\n",
       "      <th></th>\n",
       "      <th>name</th>\n",
       "    </tr>\n",
       "  </thead>\n",
       "  <tbody>\n",
       "    <tr>\n",
       "      <th>0</th>\n",
       "      <td>Miranda Priestly</td>\n",
       "    </tr>\n",
       "  </tbody>\n",
       "</table>\n",
       "</div>"
      ],
      "text/plain": [
       "               name\n",
       "0  Miranda Priestly"
      ]
     },
     "execution_count": 29,
     "metadata": {},
     "output_type": "execute_result"
    }
   ],
   "source": [
    "query = \"\"\"\n",
    "SELECT person.name\n",
    "FROM person\n",
    "JOIN drivers_license ON person.license_id = drivers_license.id\n",
    "JOIN facebook_event_checkin ON person.id = facebook_event_checkin.person_id\n",
    "WHERE drivers_license.height BETWEEN 65 AND 67\n",
    "AND drivers_license.hair_color = 'red'\n",
    "AND drivers_license.car_make = 'Tesla'\n",
    "AND drivers_license.car_model = 'Model S'\n",
    "AND facebook_event_checkin.event_name = 'SQL Symphony Concert'\n",
    "GROUP BY person.name\n",
    "HAVING COUNT(*) = 3;\"\"\"\n",
    "\n",
    "pd.set_option('display.max_colwidth',None)\n",
    "\n",
    "pd.read_sql_query(query,conn)"
   ]
  },
  {
   "cell_type": "markdown",
   "id": "dfd98efc",
   "metadata": {},
   "source": [
    "## 8. Analyze and Draw Conclusions"
   ]
  },
  {
   "cell_type": "markdown",
   "id": "7f5251ce",
   "metadata": {},
   "source": [
    "According to the analysis, we can conclude that Miranda Priestly hired a person to get tha murder done."
   ]
  },
  {
   "cell_type": "markdown",
   "id": "3f9bdc9c",
   "metadata": {},
   "source": [
    "## 9. Document Findings"
   ]
  },
  {
   "cell_type": "markdown",
   "id": "5a9a22c4",
   "metadata": {},
   "source": [
    "from crime_scene_report we got the details about 2 witnesses with that details we found out the names of the witnesses from person after that we got the transcript of the witnesses from interview and the transcript gave us a few details about the killer with those clues we found out who the killer was and then with the killers transcript we found out who hired him to do the murder.\n"
   ]
  },
  {
   "cell_type": "markdown",
   "id": "cab1c49d",
   "metadata": {},
   "source": [
    "## 10. Prepare a Report"
   ]
  },
  {
   "cell_type": "markdown",
   "id": "dfcd524e",
   "metadata": {},
   "source": [
    "Witnesses : 1)Morty Schapiro\n",
    "            2)Annabel Miller\n",
    "\n",
    "        the killer had a getfit gym bag and the membership number started with 48Z and the car\n",
    "        plate number included H42W and the killer was seen by the witness on 9th jan\n",
    "        \n",
    "        matching all the clue we have one suspect who's name is Jeremy Bowers,\n",
    "  \n",
    "Murderer: Jeremy Bowers\n",
    "\n",
    "        he tells that the person who hire him was a female who had a lot of money, her height\n",
    "        was 65\" or 67\", she had red hair and owned a Tesla Model S and she attended the SQL \n",
    "        Symphony Concert 3 times in December 2017\n",
    "        \n",
    "        matching all the clues we have one suspect who's name is Miranda Priestly,\n",
    "        \n",
    "Hirer: Miranda Priestly"
   ]
  },
  {
   "cell_type": "markdown",
   "id": "47b3a92a",
   "metadata": {},
   "source": [
    "# WEB SCRAPING"
   ]
  },
  {
   "cell_type": "code",
   "execution_count": 30,
   "id": "c2a3b60a",
   "metadata": {},
   "outputs": [],
   "source": [
    "from bs4 import BeautifulSoup as bs\n",
    "import requests\n",
    "import pandas as pd"
   ]
  },
  {
   "cell_type": "code",
   "execution_count": 31,
   "id": "d7540e4c",
   "metadata": {},
   "outputs": [],
   "source": [
    "page_to_scrape = requests.get(\"http://books.toscrape.com/\")"
   ]
  },
  {
   "cell_type": "code",
   "execution_count": 32,
   "id": "ea0790df",
   "metadata": {},
   "outputs": [],
   "source": [
    "soup = bs(page_to_scrape.text, \"html.parser\")"
   ]
  },
  {
   "cell_type": "code",
   "execution_count": 34,
   "id": "02012961",
   "metadata": {},
   "outputs": [],
   "source": [
    "bookshelf = soup.findAll(\"li\", {\"class\": \"col-xs-6 col-sm-4 col-md-3 col-lg-3\"})"
   ]
  },
  {
   "cell_type": "code",
   "execution_count": 39,
   "id": "83b32f7b",
   "metadata": {},
   "outputs": [],
   "source": [
    "title = []\n",
    "price = []\n",
    "rating = []\n",
    "url = []\n",
    "\n",
    "for book in bookshelf:\n",
    "    book_title = book.h3.a[\"title\"]\n",
    "    book_price = book.findAll(\"p\", {\"class\": \"price_color\"})[0].text.strip()\n",
    "    book_rating = book.p[\"class\"][1]\n",
    "    book_url = book.h3.a[\"href\"]\n",
    "    full_url = f\"http://books.toscrape.com/catalogue/{book_url}\"\n",
    "\n",
    "    title.append(book_title)\n",
    "    price.append(book_price)\n",
    "    rating.append(book_rating)\n",
    "    url.append(full_url)\n",
    "    \n",
    "data = {\"Title\": title,\n",
    "        \"Price\": price,\n",
    "        \"Rating\": rating,\n",
    "        \"URL\": url}\n",
    "\n",
    "df = pd.DataFrame(data)\n",
    "df['Price'] = df['Price'].str.replace(\"Â\", \"\")\n"
   ]
  },
  {
   "cell_type": "code",
   "execution_count": 40,
   "id": "efc6a5ad",
   "metadata": {},
   "outputs": [
    {
     "data": {
      "text/html": [
       "<div>\n",
       "<style scoped>\n",
       "    .dataframe tbody tr th:only-of-type {\n",
       "        vertical-align: middle;\n",
       "    }\n",
       "\n",
       "    .dataframe tbody tr th {\n",
       "        vertical-align: top;\n",
       "    }\n",
       "\n",
       "    .dataframe thead th {\n",
       "        text-align: right;\n",
       "    }\n",
       "</style>\n",
       "<table border=\"1\" class=\"dataframe\">\n",
       "  <thead>\n",
       "    <tr style=\"text-align: right;\">\n",
       "      <th></th>\n",
       "      <th>Title</th>\n",
       "      <th>Price</th>\n",
       "      <th>Rating</th>\n",
       "      <th>URL</th>\n",
       "    </tr>\n",
       "  </thead>\n",
       "  <tbody>\n",
       "    <tr>\n",
       "      <th>0</th>\n",
       "      <td>A Light in the Attic</td>\n",
       "      <td>£51.77</td>\n",
       "      <td>Three</td>\n",
       "      <td>http://books.toscrape.com/catalogue/catalogue/a-light-in-the-attic_1000/index.html</td>\n",
       "    </tr>\n",
       "    <tr>\n",
       "      <th>1</th>\n",
       "      <td>Tipping the Velvet</td>\n",
       "      <td>£53.74</td>\n",
       "      <td>One</td>\n",
       "      <td>http://books.toscrape.com/catalogue/catalogue/tipping-the-velvet_999/index.html</td>\n",
       "    </tr>\n",
       "    <tr>\n",
       "      <th>2</th>\n",
       "      <td>Soumission</td>\n",
       "      <td>£50.10</td>\n",
       "      <td>One</td>\n",
       "      <td>http://books.toscrape.com/catalogue/catalogue/soumission_998/index.html</td>\n",
       "    </tr>\n",
       "    <tr>\n",
       "      <th>3</th>\n",
       "      <td>Sharp Objects</td>\n",
       "      <td>£47.82</td>\n",
       "      <td>Four</td>\n",
       "      <td>http://books.toscrape.com/catalogue/catalogue/sharp-objects_997/index.html</td>\n",
       "    </tr>\n",
       "    <tr>\n",
       "      <th>4</th>\n",
       "      <td>Sapiens: A Brief History of Humankind</td>\n",
       "      <td>£54.23</td>\n",
       "      <td>Five</td>\n",
       "      <td>http://books.toscrape.com/catalogue/catalogue/sapiens-a-brief-history-of-humankind_996/index.html</td>\n",
       "    </tr>\n",
       "  </tbody>\n",
       "</table>\n",
       "</div>"
      ],
      "text/plain": [
       "                                   Title   Price Rating  \\\n",
       "0                   A Light in the Attic  £51.77  Three   \n",
       "1                     Tipping the Velvet  £53.74    One   \n",
       "2                             Soumission  £50.10    One   \n",
       "3                          Sharp Objects  £47.82   Four   \n",
       "4  Sapiens: A Brief History of Humankind  £54.23   Five   \n",
       "\n",
       "                                                                                                 URL  \n",
       "0                 http://books.toscrape.com/catalogue/catalogue/a-light-in-the-attic_1000/index.html  \n",
       "1                    http://books.toscrape.com/catalogue/catalogue/tipping-the-velvet_999/index.html  \n",
       "2                            http://books.toscrape.com/catalogue/catalogue/soumission_998/index.html  \n",
       "3                         http://books.toscrape.com/catalogue/catalogue/sharp-objects_997/index.html  \n",
       "4  http://books.toscrape.com/catalogue/catalogue/sapiens-a-brief-history-of-humankind_996/index.html  "
      ]
     },
     "execution_count": 40,
     "metadata": {},
     "output_type": "execute_result"
    }
   ],
   "source": [
    "df.head()"
   ]
  },
  {
   "cell_type": "code",
   "execution_count": null,
   "id": "88d2955d",
   "metadata": {},
   "outputs": [],
   "source": []
  }
 ],
 "metadata": {
  "kernelspec": {
   "display_name": "Python 3 (ipykernel)",
   "language": "python",
   "name": "python3"
  },
  "language_info": {
   "codemirror_mode": {
    "name": "ipython",
    "version": 3
   },
   "file_extension": ".py",
   "mimetype": "text/x-python",
   "name": "python",
   "nbconvert_exporter": "python",
   "pygments_lexer": "ipython3",
   "version": "3.11.5"
  }
 },
 "nbformat": 4,
 "nbformat_minor": 5
}
